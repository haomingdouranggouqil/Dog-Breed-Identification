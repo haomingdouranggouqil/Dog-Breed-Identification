{
 "cells": [
  {
   "cell_type": "code",
   "execution_count": 1,
   "id": "1c3f3c3d-daf3-4ae3-b80e-89423a12ee2d",
   "metadata": {},
   "outputs": [],
   "source": [
    "import os\n",
    "import torch\n",
    "import torchvision\n",
    "from torch import nn\n",
    "from d2l import torch as d2l"
   ]
  },
  {
   "cell_type": "code",
   "execution_count": 2,
   "id": "4ed32649-0d9a-436d-b7a6-022afeee3dcb",
   "metadata": {},
   "outputs": [],
   "source": [
    "def get_dir(path):\n",
    "    train_file = open(path, 'r', encoding='utf-8')\n",
    "    dir_list = train_file.readlines()\n",
    "    train_file.close()\n",
    "    return dir_list\n",
    "train_dir = get_dir('train.lst')\n",
    "valid_dir = get_dir('validation.lst')"
   ]
  },
  {
   "cell_type": "code",
   "execution_count": 3,
   "id": "b496154c-6522-4a53-a585-38cbc2068e98",
   "metadata": {},
   "outputs": [
    {
     "data": {
      "text/plain": [
       "\"\\ngen_dir('train_test')\\ngen_dir('valid_test')\\n\""
      ]
     },
     "execution_count": 3,
     "metadata": {},
     "output_type": "execute_result"
    }
   ],
   "source": [
    "import shutil\n",
    "def gen_dir(torv):\n",
    "    for t in train_dir:\n",
    "        tt = 'data' + t[2:-1] \n",
    "        new_dir = torv + '/'+ t.split('-')[2].split('/n')[0]\n",
    "        if os.path.exists(new_dir) == False:\n",
    "            os.makedirs(new_dir)\n",
    "        shutil.copy(tt,new_dir)\n",
    "        \n",
    "'''\n",
    "gen_dir('train_test')\n",
    "gen_dir('valid_test')\n",
    "'''"
   ]
  },
  {
   "cell_type": "code",
   "execution_count": 4,
   "id": "88fc2945-78d0-4ce2-afcc-959ed46c80c1",
   "metadata": {},
   "outputs": [],
   "source": [
    "transform_train = torchvision.transforms.Compose([\n",
    "    torchvision.transforms.RandomResizedCrop(224, scale=(0.08, 1.0),\n",
    "                                             ratio=(3.0 / 4.0, 4.0 / 3.0)),\n",
    "    torchvision.transforms.RandomHorizontalFlip(),\n",
    "    torchvision.transforms.ColorJitter(brightness=0.4, contrast=0.4,\n",
    "                                       saturation=0.4),\n",
    "    torchvision.transforms.ToTensor(),\n",
    "    torchvision.transforms.Normalize([0.485, 0.456, 0.406],\n",
    "                                     [0.229, 0.224, 0.225])])\n",
    "\n",
    "transform_valid = torchvision.transforms.Compose([\n",
    "    torchvision.transforms.Resize(256),\n",
    "    # 从图像中心裁切224x224大小的图片\n",
    "    torchvision.transforms.CenterCrop(224),\n",
    "    torchvision.transforms.ToTensor(),\n",
    "    torchvision.transforms.Normalize([0.485, 0.456, 0.406],\n",
    "                                     [0.229, 0.224, 0.225])])"
   ]
  },
  {
   "cell_type": "code",
   "execution_count": 5,
   "id": "026f2785-344b-4d2a-a320-ddf500001144",
   "metadata": {},
   "outputs": [],
   "source": [
    "train_ds = torchvision.datasets.ImageFolder(\n",
    "        './train/',\n",
    "        transform=transform_train)\n",
    "\n",
    "valid_ds = torchvision.datasets.ImageFolder(\n",
    "        './valid/',\n",
    "        transform=transform_valid)"
   ]
  },
  {
   "cell_type": "code",
   "execution_count": 6,
   "id": "05346bd9-f355-4089-b4d1-89cb6ca1692b",
   "metadata": {},
   "outputs": [
    {
     "data": {
      "text/plain": [
       "'\\nfor features, labels in valid_iter:\\n    print(labels)\\n'"
      ]
     },
     "execution_count": 6,
     "metadata": {},
     "output_type": "execute_result"
    }
   ],
   "source": [
    "batch_size = 128\n",
    "train_iter = torch.utils.data.DataLoader(train_ds, batch_size, shuffle=True,\n",
    "                                drop_last=True)\n",
    "valid_iter = torch.utils.data.DataLoader(valid_ds, batch_size, shuffle=False,\n",
    "                                         drop_last=True)\n",
    "'''\n",
    "for features, labels in valid_iter:\n",
    "    print(labels)\n",
    "'''"
   ]
  },
  {
   "cell_type": "code",
   "execution_count": 12,
   "id": "b84336b1-dd37-4906-8bd3-acbc9173d5de",
   "metadata": {},
   "outputs": [],
   "source": [
    "def get_net(devices):\n",
    "    finetune_net = nn.Sequential()\n",
    "    finetune_net.features = torchvision.models.resnet34(pretrained=True)\n",
    "    finetune_net.output_new = nn.Sequential(nn.Linear(1000, 256), nn.ReLU(),\n",
    "                                            nn.Linear(256, 130))\n",
    "    finetune_net = finetune_net.to(devices[0])\n",
    "    for param in finetune_net.features.parameters():\n",
    "        param.requires_grad = False\n",
    "    return finetune_net"
   ]
  },
  {
   "cell_type": "code",
   "execution_count": 13,
   "id": "bfb3cc4e-1215-40e8-9c3e-30082aa103a0",
   "metadata": {},
   "outputs": [],
   "source": [
    "loss = nn.CrossEntropyLoss(reduction='none')\n",
    "\n",
    "def evaluate_loss(data_iter, net, devices):\n",
    "    l_sum, n = 0.0, 0\n",
    "    for features, labels in data_iter:\n",
    "        features, labels = features.to(devices[0]), labels.to(devices[0])\n",
    "        outputs = net(features)\n",
    "        l = loss(outputs, labels)\n",
    "        l_sum = l.sum()\n",
    "        n += labels.numel()\n",
    "    return l_sum / n"
   ]
  },
  {
   "cell_type": "code",
   "execution_count": 14,
   "id": "a37fd7db-dbba-4c53-b5af-4bd44492f7bf",
   "metadata": {},
   "outputs": [],
   "source": [
    "def train(net, train_iter, valid_iter, num_epochs, lr, wd, devices, lr_period,\n",
    "          lr_decay):\n",
    "    trainer = torch.optim.SGD(net.parameters(), lr=lr, momentum=0.9,\n",
    "                              weight_decay=wd)\n",
    "    scheduler = torch.optim.lr_scheduler.StepLR(trainer, lr_period, lr_decay)\n",
    "    num_batches, timer = len(train_iter), d2l.Timer()\n",
    "    animator = d2l.Animator(xlabel='epoch', xlim=[1, num_epochs],\n",
    "                            legend=['train loss', 'train acc', 'valid acc'])\n",
    "    net = nn.DataParallel(net, device_ids=devices).to(devices[0])\n",
    "    for epoch in range(num_epochs):\n",
    "        net.train()\n",
    "        metric = d2l.Accumulator(3)\n",
    "        for i, (features, labels) in enumerate(train_iter):\n",
    "            timer.start()\n",
    "            l, acc = d2l.train_batch_ch13(net, features, labels, loss,\n",
    "                                          trainer, devices)\n",
    "            metric.add(l, acc, labels.shape[0])\n",
    "            timer.stop()\n",
    "            if (i + 1) % (num_batches // 5) == 0 or i == num_batches - 1:\n",
    "                animator.add(\n",
    "                    epoch + (i + 1) / num_batches,\n",
    "                    (metric[0] / metric[2], metric[1] / metric[2], None))\n",
    "        if valid_iter is not None:\n",
    "            valid_acc = d2l.evaluate_accuracy_gpu(net, valid_iter)\n",
    "            animator.add(epoch + 1, (None, None, valid_acc))\n",
    "        scheduler.step()\n",
    "    if valid_iter is not None:\n",
    "        print(f'loss {metric[0] / metric[2]:.3f}, '\n",
    "              f'train acc {metric[1] / metric[2]:.3f}, '\n",
    "              f'valid acc {valid_acc:.3f}')\n",
    "    else:\n",
    "        print(f'loss {metric[0] / metric[2]:.3f}, '\n",
    "              f'train acc {metric[1] / metric[2]:.3f}')\n",
    "    print(f'{metric[2] * num_epochs / timer.sum():.1f} examples/sec '\n",
    "          f'on {str(devices)}')"
   ]
  },
  {
   "cell_type": "code",
   "execution_count": null,
   "id": "733fd4ac-00c6-4b47-8393-170e156d09ee",
   "metadata": {},
   "outputs": [],
   "source": [
    "devices, num_epochs, lr, wd = d2l.try_all_gpus(), 5, 0.001, 1e-4\n",
    "lr_period, lr_decay, net = 10, 0.1, get_net(devices)\n",
    "train(net, train_iter, valid_iter, num_epochs, lr, wd, devices, lr_period,\n",
    "      lr_decay)"
   ]
  },
  {
   "cell_type": "code",
   "execution_count": null,
   "id": "0dbf93a0-b51e-48ae-992d-468ae87f7aab",
   "metadata": {},
   "outputs": [],
   "source": []
  }
 ],
 "metadata": {
  "kernelspec": {
   "display_name": "Python 3",
   "language": "python",
   "name": "python3"
  },
  "language_info": {
   "codemirror_mode": {
    "name": "ipython",
    "version": 3
   },
   "file_extension": ".py",
   "mimetype": "text/x-python",
   "name": "python",
   "nbconvert_exporter": "python",
   "pygments_lexer": "ipython3",
   "version": "3.8.10"
  }
 },
 "nbformat": 4,
 "nbformat_minor": 5
}
